{
 "cells": [
  {
   "cell_type": "code",
   "execution_count": 1,
   "metadata": {},
   "outputs": [],
   "source": [
    "import iris_recognition as iris"
   ]
  },
  {
   "cell_type": "code",
   "execution_count": 2,
   "metadata": {},
   "outputs": [],
   "source": [
    "test_paths = [r'IrisDB/test-data/Test/S2001R01.jpg',\n",
    "                r'IrisDB/casia-iris-thousand-500mb/CASIA-Iris-Thousand/018/L/S5018L04.jpg',\n",
    "                r'IrisDB/casia-iris-thousand-500mb/CASIA-Iris-Thousand/018/L/S5018L06.jpg',\n",
    "                r'IrisDB/casia-iris-thousand-500mb/CASIA-Iris-Thousand/991/R/S5991R01.jpg',\n",
    "                r'IrisDB/casia-iris-segmentation-4gb/CASIA-Iris-Degradation-Database/image/0001_1_1_2_21_001.png',\n",
    "                r'IrisDB/casia-iris-segmentation-4gb/CASIA-Iris-Degradation-Database/image/0001_1_1_2_20_002.png'\n",
    "                ]"
   ]
  },
  {
   "cell_type": "code",
   "execution_count": 3,
   "metadata": {},
   "outputs": [
    {
     "name": "stdout",
     "output_type": "stream",
     "text": [
      "\n",
      "Image loaded -> ['test-data', 'Test', 'S2001R01.jpg']\n",
      "Getting iris boundaries ...\n",
      "get_iris_boundaries ended in 7.369967 seconds\n",
      "Equalizing histogram ...\n",
      "get_equalized_iris ended in 0.129307 seconds\n",
      "Getting roi iris images ...\n",
      "get_rois ended in 0.533220 seconds\n",
      "Searching for keypoints ...\n",
      "load_keypoints ended in 0.045607 seconds\n",
      "load_descriptors ended in 0.036999 seconds\n",
      "Rois completed for S2001R01.\n",
      "load_rois_from_image ended in 8.119822 seconds\n"
     ]
    }
   ],
   "source": [
    "rois = iris.load_rois_from_image(test_paths[0], show=False)"
   ]
  },
  {
   "cell_type": "code",
   "execution_count": 4,
   "metadata": {},
   "outputs": [
    {
     "name": "stdout",
     "output_type": "stream",
     "text": [
      "dict_keys(['img', 'pupil_circle', 'ext_circle', 'kp', 'img_kp_init', 'img_kp_filtered', 'des'])\n"
     ]
    }
   ],
   "source": [
    "print(rois['complete'].keys())\n"
   ]
  },
  {
   "cell_type": "code",
   "execution_count": 5,
   "metadata": {},
   "outputs": [
    {
     "name": "stdout",
     "output_type": "stream",
     "text": [
      "Dict data:\n",
      "    img : <class 'numpy.ndarray'>\n",
      "    pupil_circle : {<class 'int'>}\n",
      "    ext_circle : {<class 'int'>}\n",
      "    kp : {<class 'cv2.KeyPoint'>}\n",
      "    img_kp_init : <class 'numpy.ndarray'>\n",
      "    img_kp_filtered : <class 'numpy.ndarray'>\n",
      "    des : <class 'numpy.ndarray'>\n",
      "None\n"
     ]
    }
   ],
   "source": [
    "print(iris.print_dict_types(rois['complete']))"
   ]
  },
  {
   "cell_type": "code",
   "execution_count": 6,
   "metadata": {},
   "outputs": [
    {
     "name": "stdout",
     "output_type": "stream",
     "text": [
      "<class 'cv2.KeyPoint'>\n",
      "2.0200369358062744\n",
      "-1\n",
      "8520191\n",
      "125.59442138671875\n",
      "(200.4609832763672, 113.11812591552734)\n"
     ]
    }
   ],
   "source": [
    "index = -1\n",
    "print(type(rois['complete']['kp'][index]))\n",
    "print(rois['complete']['kp'][index].size)\n",
    "print(rois['complete']['kp'][index].class_id)\n",
    "print(rois['complete']['kp'][index].octave)\n",
    "print(rois['complete']['kp'][index].angle)\n",
    "print(rois['complete']['kp'][index].pt)"
   ]
  }
 ],
 "metadata": {
  "kernelspec": {
   "display_name": "iris",
   "language": "python",
   "name": "python3"
  },
  "language_info": {
   "codemirror_mode": {
    "name": "ipython",
    "version": 3
   },
   "file_extension": ".py",
   "mimetype": "text/x-python",
   "name": "python",
   "nbconvert_exporter": "python",
   "pygments_lexer": "ipython3",
   "version": "3.9.19"
  }
 },
 "nbformat": 4,
 "nbformat_minor": 2
}
